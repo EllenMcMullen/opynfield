{
 "cells": [
  {
   "cell_type": "code",
   "execution_count": 2,
   "metadata": {
    "collapsed": true,
    "ExecuteTime": {
     "end_time": "2023-06-07T16:19:08.164067Z",
     "start_time": "2023-06-07T16:19:04.921566Z"
    }
   },
   "outputs": [],
   "source": [
    "import pandas as pd\n",
    "\n",
    "from src.opynfield.config.user_input import UserInput\n",
    "from src.opynfield.readin.run_all import run_all_track_types\n",
    "from src.opynfield.config.defaults_settings import Defaults\n",
    "from src.opynfield.config.cov_asymptote import CoverageAsymptote\n",
    "from src.opynfield.calculate_measures.calculate_measures import tracks_to_measures\n",
    "from src.opynfield.summarize_measures.summarize_individuals import individual_measures_to_dfs\n",
    "from src.opynfield.summarize_measures.summarize_groups import time_average, cov_measure_average,\\\n",
    "    percent_coverage_average\n",
    "from src.opynfield.config.model_settings import set_up_fits\n",
    "from src.opynfield.fit_models.fit_individual_models import fit_all, find_fit_bounds, re_fit_all\n",
    "from src.opynfield.fit_models.fit_group_models import group_fit_all\n",
    "from src.opynfield.stat_test.stat_test import format_params, format_group_params, run_tests\n",
    "from copy import deepcopy"
   ]
  },
  {
   "cell_type": "code",
   "execution_count": 3,
   "outputs": [
    {
     "name": "stdout",
     "output_type": "stream",
     "text": [
      "['Buridian Tracker']\n",
      "{'Buridian Tracker': ['Canton S', 'Canton S 2']}\n",
      "Read In Buridian Tracker Files For Groups ['Canton S', 'Canton S 2']\n",
      "Running Buridian Tracker Files For Group: Canton S\n"
     ]
    },
    {
     "name": "stderr",
     "output_type": "stream",
     "text": [
      "2023-06-07 11:19:14.113 python[11414:316139] +[CATransaction synchronize] called within transaction\n",
      "2023-06-07 11:19:17.355 python[11414:316139] +[CATransaction synchronize] called within transaction\n"
     ]
    },
    {
     "name": "stdout",
     "output_type": "stream",
     "text": [
      "Canton S, File 1 Out Of 4\n",
      "Buri Units Converted\n",
      "Buri Units Centered\n",
      "Buri Track Smoothed\n",
      "Buri Track Subsampled\n",
      "Buri Track Missing Values Filled\n",
      "Canton S, File 2 Out Of 4\n",
      "Buri Units Converted\n",
      "Buri Units Centered\n",
      "Buri Track Smoothed\n",
      "Buri Track Subsampled\n",
      "Buri Track Missing Values Filled\n",
      "Canton S, File 3 Out Of 4\n",
      "Buri Units Converted\n",
      "Buri Units Centered\n",
      "Buri Track Smoothed\n",
      "Buri Track Subsampled\n",
      "Buri Track Missing Values Filled\n",
      "Canton S, File 4 Out Of 4\n",
      "Buri Units Converted\n",
      "Buri Units Centered\n",
      "Buri Track Smoothed\n",
      "Buri Track Subsampled\n",
      "Buri Track Missing Values Filled\n",
      "Running Buridian Tracker Files For Group: Canton S 2\n"
     ]
    },
    {
     "name": "stderr",
     "output_type": "stream",
     "text": [
      "2023-06-07 11:19:21.730 python[11414:316139] +[CATransaction synchronize] called within transaction\n",
      "2023-06-07 11:19:25.098 python[11414:316139] +[CATransaction synchronize] called within transaction\n"
     ]
    },
    {
     "name": "stdout",
     "output_type": "stream",
     "text": [
      "Canton S 2, File 1 Out Of 3\n",
      "Buri Units Converted\n",
      "Buri Units Centered\n",
      "Buri Track Smoothed\n",
      "Buri Track Subsampled\n",
      "Buri Track Missing Values Filled\n",
      "Canton S 2, File 2 Out Of 3\n",
      "Buri Units Converted\n",
      "Buri Units Centered\n",
      "Buri Track Smoothed\n",
      "Buri Track Subsampled\n",
      "Buri Track Missing Values Filled\n",
      "Canton S 2, File 3 Out Of 3\n",
      "Buri Units Converted\n",
      "Buri Units Centered\n",
      "Buri Track Smoothed\n",
      "Buri Track Subsampled\n",
      "Buri Track Missing Values Filled\n",
      "Polar Coordinates Calculated\n",
      "Activity Calculated\n",
      "Turning Angles Calculated\n",
      "Motion Probabilities Calculated\n",
      "Coverage Bins Located\n",
      "Coverage Calculated\n",
      "Percent Coverage Calculated\n",
      "PICA Calculated\n",
      "Polar Coordinates Calculated\n",
      "Activity Calculated\n",
      "Turning Angles Calculated\n",
      "Motion Probabilities Calculated\n",
      "Coverage Bins Located\n",
      "Coverage Calculated\n",
      "Percent Coverage Calculated\n",
      "PICA Calculated\n",
      "Polar Coordinates Calculated\n",
      "Activity Calculated\n",
      "Turning Angles Calculated\n",
      "Motion Probabilities Calculated\n",
      "Coverage Bins Located\n",
      "Coverage Calculated\n",
      "Percent Coverage Calculated\n",
      "PICA Calculated\n",
      "Polar Coordinates Calculated\n",
      "Activity Calculated\n",
      "Turning Angles Calculated\n",
      "Motion Probabilities Calculated\n",
      "Coverage Bins Located\n",
      "Coverage Calculated\n",
      "Percent Coverage Calculated\n",
      "PICA Calculated\n",
      "Polar Coordinates Calculated\n",
      "Activity Calculated\n",
      "Turning Angles Calculated\n",
      "Motion Probabilities Calculated\n",
      "Coverage Bins Located\n",
      "Coverage Calculated\n",
      "Percent Coverage Calculated\n",
      "PICA Calculated\n",
      "Polar Coordinates Calculated\n",
      "Activity Calculated\n",
      "Turning Angles Calculated\n",
      "Motion Probabilities Calculated\n",
      "Coverage Bins Located\n",
      "Coverage Calculated\n",
      "Percent Coverage Calculated\n",
      "PICA Calculated\n",
      "Polar Coordinates Calculated\n",
      "Activity Calculated\n",
      "Turning Angles Calculated\n",
      "Motion Probabilities Calculated\n",
      "Coverage Bins Located\n",
      "Coverage Calculated\n",
      "Percent Coverage Calculated\n",
      "PICA Calculated\n",
      "All Independent Track Measures Calculated\n",
      "Tracks Converted To Standard Tracks\n",
      "PGCA Calculated\n",
      "PGCA Calculated\n",
      "PGCA Calculated\n",
      "PGCA Calculated\n",
      "PGCA Calculated\n",
      "PGCA Calculated\n",
      "PGCA Calculated\n",
      "Summarizing Tracks From Group Canton S\n",
      "Summarizing Tracks From Group Canton S 2\n",
      "Averaging Tracks From Group Canton S by time\n",
      "Averaging Tracks From Group Canton S 2 by time\n",
      "Averaging Tracks From Group Canton S By coverage\n",
      "Averaging Tracks From Group Canton S 2 By coverage\n",
      "Averaging Tracks From Group Canton S By pica\n",
      "Averaging Tracks From Group Canton S 2 By pica\n",
      "Averaging Tracks From Group Canton S By pgca\n",
      "Averaging Tracks From Group Canton S 2 By pgca\n",
      "Averaging Tracks From Group Canton S by percent coverage\n",
      "Averaging Tracks From Group Canton S 2 by percent coverage\n",
      "Fitting Models To Tracks From Group Canton S by time\n",
      "Fitting Models To Tracks From Group Canton S by coverage\n",
      "Fitting Models To Tracks From Group Canton S by pica\n",
      "Fitting Models To Tracks From Group Canton S by pgca\n",
      "Fitting Models To Tracks From Group Canton S by percent_coverage\n",
      "Fitting Models To Tracks From Group Canton S 2 by time\n",
      "Fitting Models To Tracks From Group Canton S 2 by coverage\n",
      "Fitting Models To Tracks From Group Canton S 2 by pica\n",
      "Fitting Models To Tracks From Group Canton S 2 by pgca\n",
      "Fitting Models To Tracks From Group Canton S 2 by percent_coverage\n",
      "Re-Fitting Models To Tracks From Group Canton S by time\n",
      "Re-Fitting Models To Tracks From Group Canton S by coverage\n",
      "Re-Fitting Models To Tracks From Group Canton S by pica\n",
      "Re-Fitting Models To Tracks From Group Canton S by pgca\n",
      "Re-Fitting Models To Tracks From Group Canton S by percent_coverage\n",
      "Re-Fitting Models To Tracks From Group Canton S 2 by time\n",
      "Re-Fitting Models To Tracks From Group Canton S 2 by coverage\n",
      "Re-Fitting Models To Tracks From Group Canton S 2 by pica\n",
      "Re-Fitting Models To Tracks From Group Canton S 2 by pgca\n",
      "Re-Fitting Models To Tracks From Group Canton S 2 by percent_coverage\n",
      "Fitting Models To Entire Group Canton S by time\n",
      "Fitting Models To Entire Group Canton S by coverage\n",
      "Fitting Models To Entire Group Canton S by pica\n",
      "Fitting Models To Entire Group Canton S by pgca\n",
      "Fitting Models To Entire Group Canton S by percent_coverage\n",
      "Fitting Models To Entire Group Canton S 2 by time\n",
      "Fitting Models To Entire Group Canton S 2 by coverage\n",
      "Fitting Models To Entire Group Canton S 2 by pica\n",
      "Fitting Models To Entire Group Canton S 2 by pgca\n",
      "Fitting Models To Entire Group Canton S 2 by percent_coverage\n"
     ]
    },
    {
     "ename": "FileExistsError",
     "evalue": "[Errno 17] File exists: '/Users/ellenmcmullen/Desktop/TestRunResults/Stats'",
     "output_type": "error",
     "traceback": [
      "\u001B[0;31m---------------------------------------------------------------------------\u001B[0m",
      "\u001B[0;31mFileExistsError\u001B[0m                           Traceback (most recent call last)",
      "Cell \u001B[0;32mIn[3], line 39\u001B[0m\n\u001B[1;32m     37\u001B[0m \u001B[38;5;66;03m# format the group fits to save out\u001B[39;00m\n\u001B[1;32m     38\u001B[0m formatted_group_fits \u001B[38;5;241m=\u001B[39m format_group_params(deepcopy(group_fits), test_defaults, user_config)\n\u001B[0;32m---> 39\u001B[0m \u001B[43mrun_tests\u001B[49m\u001B[43m(\u001B[49m\u001B[43mformatted_bounded_fits\u001B[49m\u001B[43m,\u001B[49m\u001B[43m \u001B[49m\u001B[43mtest_defaults\u001B[49m\u001B[43m,\u001B[49m\u001B[43m \u001B[49m\u001B[43muser_config\u001B[49m\u001B[43m)\u001B[49m\n",
      "File \u001B[0;32m~/Documents/GitHub/opynfield/src/opynfield/stat_test/stat_test.py:165\u001B[0m, in \u001B[0;36mrun_tests\u001B[0;34m(formatted_bounded_fits, defaults, user_inputs)\u001B[0m\n\u001B[1;32m    163\u001B[0m \u001B[38;5;28;01mdef\u001B[39;00m \u001B[38;5;21mrun_tests\u001B[39m(formatted_bounded_fits: pd\u001B[38;5;241m.\u001B[39mDataFrame, defaults: Defaults,\n\u001B[1;32m    164\u001B[0m               user_inputs: UserInput):\n\u001B[0;32m--> 165\u001B[0m     \u001B[43mos\u001B[49m\u001B[38;5;241;43m.\u001B[39;49m\u001B[43mmakedirs\u001B[49m\u001B[43m(\u001B[49m\u001B[43muser_inputs\u001B[49m\u001B[38;5;241;43m.\u001B[39;49m\u001B[43mresult_path\u001B[49m\u001B[38;5;241;43m+\u001B[39;49m\u001B[38;5;124;43m'\u001B[39;49m\u001B[38;5;124;43m/Stats\u001B[39;49m\u001B[38;5;124;43m'\u001B[39;49m\u001B[43m)\u001B[49m\n\u001B[1;32m    166\u001B[0m     stats_results_file \u001B[38;5;241m=\u001B[39m user_inputs\u001B[38;5;241m.\u001B[39mresult_path \u001B[38;5;241m+\u001B[39m \u001B[38;5;124m'\u001B[39m\u001B[38;5;124m/Stats/results.txt\u001B[39m\u001B[38;5;124m'\u001B[39m\n\u001B[1;32m    167\u001B[0m     orig_stdout \u001B[38;5;241m=\u001B[39m sys\u001B[38;5;241m.\u001B[39mstdout\n",
      "File \u001B[0;32m~/opt/anaconda3/lib/python3.9/os.py:225\u001B[0m, in \u001B[0;36mmakedirs\u001B[0;34m(name, mode, exist_ok)\u001B[0m\n\u001B[1;32m    223\u001B[0m         \u001B[38;5;28;01mreturn\u001B[39;00m\n\u001B[1;32m    224\u001B[0m \u001B[38;5;28;01mtry\u001B[39;00m:\n\u001B[0;32m--> 225\u001B[0m     \u001B[43mmkdir\u001B[49m\u001B[43m(\u001B[49m\u001B[43mname\u001B[49m\u001B[43m,\u001B[49m\u001B[43m \u001B[49m\u001B[43mmode\u001B[49m\u001B[43m)\u001B[49m\n\u001B[1;32m    226\u001B[0m \u001B[38;5;28;01mexcept\u001B[39;00m \u001B[38;5;167;01mOSError\u001B[39;00m:\n\u001B[1;32m    227\u001B[0m     \u001B[38;5;66;03m# Cannot rely on checking for EEXIST, since the operating system\u001B[39;00m\n\u001B[1;32m    228\u001B[0m     \u001B[38;5;66;03m# could give priority to other errors like EACCES or EROFS\u001B[39;00m\n\u001B[1;32m    229\u001B[0m     \u001B[38;5;28;01mif\u001B[39;00m \u001B[38;5;129;01mnot\u001B[39;00m exist_ok \u001B[38;5;129;01mor\u001B[39;00m \u001B[38;5;129;01mnot\u001B[39;00m path\u001B[38;5;241m.\u001B[39misdir(name):\n",
      "\u001B[0;31mFileExistsError\u001B[0m: [Errno 17] File exists: '/Users/ellenmcmullen/Desktop/TestRunResults/Stats'"
     ]
    }
   ],
   "source": [
    "# create your user config settings\n",
    "user_config = UserInput({'Canton S': ['Buridian Tracker'], 'Canton S 2': ['Buridian Tracker']},\n",
    "                        {'Canton S': 'CS1', 'Canton S 2': 'CS2'}, 4.2, 30, 1, 1, 0.001, True,\n",
    "                        '/Users/ellenmcmullen/Desktop/TestRunResults')\n",
    "user_config.prep_directory()\n",
    "# read in the data\n",
    "track_list = run_all_track_types(user_config.groups_and_types, user_config.verbose, user_config.arena_radius_cm,\n",
    "                                 user_config.running_window_length, user_config.window_step_size,\n",
    "                                 user_config.sample_freq, user_config.time_bin_size, user_config.trim)\n",
    "# set the default parameters (or override)\n",
    "test_defaults = Defaults()\n",
    "# identify functional form for PICA and PGCA (or override)\n",
    "test_cov_asymptote = CoverageAsymptote()\n",
    "# calculate measures from track data\n",
    "standard_tracks, tracks_by_groups = tracks_to_measures(track_list, user_config, test_defaults, test_cov_asymptote)\n",
    "individual_measures_dfs = individual_measures_to_dfs(tracks_by_groups, test_defaults, user_config)\n",
    "# calculate group averages of measures\n",
    "time_averages = time_average(individual_measures_dfs, test_defaults, user_config)\n",
    "group_measures_by_coverage = cov_measure_average(individual_measures_dfs, test_defaults, user_config, 'coverage')\n",
    "group_measures_by_pica = cov_measure_average(individual_measures_dfs, test_defaults, user_config, 'pica')\n",
    "group_measures_by_pgca = cov_measure_average(individual_measures_dfs, test_defaults, user_config, 'pgca')\n",
    "group_measures_by_percent_coverage = percent_coverage_average(individual_measures_dfs, test_defaults, user_config)\n",
    "# set up model fit defaults\n",
    "model_params = set_up_fits()\n",
    "# fit initial models on individual track data\n",
    "fits = fit_all(individual_measures_dfs, test_defaults, model_params)\n",
    "# change bounds based on the distribution of the parameters\n",
    "fit_upper_bounds, fit_lower_bounds, fit_initial_params = find_fit_bounds(fits, user_config)\n",
    "# refit the models on individual track data with the bounds\n",
    "bounded_fits = re_fit_all(individual_measures_dfs, test_defaults, model_params, fit_upper_bounds, fit_lower_bounds,\n",
    "                          fit_initial_params)\n",
    "# fit group models with the bounds\n",
    "group_fits = group_fit_all(individual_measures_dfs, test_defaults, model_params, fit_upper_bounds, fit_lower_bounds,\n",
    "                           fit_initial_params)\n",
    "# format the bounded_fits to do statistical tests\n",
    "formatted_bounded_fits = format_params(deepcopy(bounded_fits), test_defaults, user_config)\n",
    "# format the group fits to save out\n",
    "formatted_group_fits = format_group_params(deepcopy(group_fits), test_defaults, user_config)\n",
    "run_tests(formatted_bounded_fits, test_defaults, user_config)"
   ],
   "metadata": {
    "collapsed": false,
    "ExecuteTime": {
     "end_time": "2023-06-07T16:19:47.298845Z",
     "start_time": "2023-06-07T16:19:12.758082Z"
    }
   }
  },
  {
   "cell_type": "code",
   "execution_count": null,
   "outputs": [],
   "source": [
    "import matplotlib.pyplot as plt\n",
    "import matplotlib\n",
    "import numpy as np\n",
    "import pandas as pd"
   ],
   "metadata": {
    "collapsed": false,
    "ExecuteTime": {
     "start_time": "2023-06-07T16:19:00.852382Z"
    }
   }
  },
  {
   "cell_type": "code",
   "execution_count": null,
   "outputs": [],
   "source": [
    "individual_measures_dfs['Canton S']['activity']"
   ],
   "metadata": {
    "collapsed": false,
    "ExecuteTime": {
     "start_time": "2023-06-07T16:19:00.853242Z"
    }
   }
  },
  {
   "cell_type": "code",
   "execution_count": 88,
   "outputs": [],
   "source": [
    "a =bounded_fits['Canton S']['coverage']['p_zero_zero_given_zero'].reset_index().drop(columns='index').iloc[3].values"
   ],
   "metadata": {
    "collapsed": false,
    "ExecuteTime": {
     "end_time": "2023-06-05T18:48:23.453091Z",
     "start_time": "2023-06-05T18:48:23.449509Z"
    }
   }
  },
  {
   "cell_type": "code",
   "execution_count": 91,
   "outputs": [
    {
     "data": {
      "text/plain": "True"
     },
     "execution_count": 91,
     "metadata": {},
     "output_type": "execute_result"
    }
   ],
   "source": [
    "np.isnan(a[0])"
   ],
   "metadata": {
    "collapsed": false,
    "ExecuteTime": {
     "end_time": "2023-06-05T18:48:37.074612Z",
     "start_time": "2023-06-05T18:48:37.065909Z"
    }
   }
  },
  {
   "cell_type": "code",
   "execution_count": 21,
   "outputs": [
    {
     "data": {
      "text/plain": "{'time': {'activity': ModelSpecification(axes=('time', 'activity'), model=ExponentialModel(initial_params=(0.1, -0.1, 0.01), bounds=((0, -10, 0), (10, 0, 10)), max_eval=4000)),\n  'coverage': ModelSpecification(axes=('time', 'coverage'), model=FixedExponentialModel(initial_params=(-0.1, -0.1), bounds=((-10, -10), (0, 0)), max_eval=4000)),\n  'percent_coverage': ModelSpecification(axes=('time', 'percent_coverage'), model=FixedExponentialModel(initial_params=(-0.1, -0.1), bounds=((-10, -10), (0, 0)), max_eval=4000)),\n  'pica': ModelSpecification(axes=('time', 'pica'), model=FixedExponentialModel(initial_params=(-0.1, -0.1), bounds=((-10, -10), (0, 0)), max_eval=4000)),\n  'pgca': ModelSpecification(axes=('time', 'pgca'), model=FixedExponentialModel(initial_params=(-0.1, -0.1), bounds=((-10, -10), (0, 0)), max_eval=4000)),\n  'p_plus_plus': ModelSpecification(axes=('time', 'p_plus_plus'), model=ExponentialModel(initial_params=(0.1, -0.1, 0.01), bounds=((0, -10, 0), (10, 0, 10)), max_eval=4000)),\n  'p_plus_minus': ModelSpecification(axes=('time', 'p_plus_minus'), model=FixedExponentialModel(initial_params=(-0.1, -0.1), bounds=((-10, -10), (0, 0)), max_eval=4000)),\n  'p_plus_zero': ModelSpecification(axes=('time', 'p_plus_zero'), model=FixedExponentialModel(initial_params=(-0.1, -0.1), bounds=((-10, -10), (0, 0)), max_eval=4000)),\n  'p_zero_plus': ModelSpecification(axes=('time', 'p_zero_plus'), model=ExponentialModel(initial_params=(0.1, -0.1, 0.01), bounds=((0, -10, 0), (10, 0, 10)), max_eval=4000)),\n  'p_zero_zero': ModelSpecification(axes=('time', 'p_zero_zero'), model=FixedExponentialModel(initial_params=(-0.1, -0.1), bounds=((-10, -10), (0, 0)), max_eval=4000)),\n  'p_plus_plus_given_plus': ModelSpecification(axes=('time', 'p_plus_plus_given_plus'), model=ExponentialModel(initial_params=(0.1, -0.1, 0.01), bounds=((0, -10, 0), (10, 0, 10)), max_eval=4000)),\n  'p_plus_minus_given_plus': ModelSpecification(axes=('time', 'p_plus_minus_given_plus'), model=FixedExponentialModel(initial_params=(-0.1, -0.1), bounds=((-10, -10), (0, 0)), max_eval=4000)),\n  'p_plus_zero_given_plus': ModelSpecification(axes=('time', 'p_plus_zero_given_plus'), model=FixedExponentialModel(initial_params=(-0.1, -0.1), bounds=((-10, -10), (0, 0)), max_eval=4000)),\n  'p_zero_plus_given_zero': ModelSpecification(axes=('time', 'p_zero_plus_given_zero'), model=ExponentialModel(initial_params=(0.1, -0.1, 0.01), bounds=((0, -10, 0), (10, 0, 10)), max_eval=4000)),\n  'p_zero_zero_given_zero': ModelSpecification(axes=('time', 'p_zero_zero_given_zero'), model=FixedExponentialModel(initial_params=(-0.1, -0.1), bounds=((-10, -10), (0, 0)), max_eval=4000)),\n  'p_plus_plus_given_any': ModelSpecification(axes=('time', 'p_plus_plus_given_any'), model=ExponentialModel(initial_params=(0.1, -0.1, 0.01), bounds=((0, -10, 0), (10, 0, 10)), max_eval=4000)),\n  'p_plus_minus_given_any': ModelSpecification(axes=('time', 'p_plus_minus_given_any'), model=FixedExponentialModel(initial_params=(-0.1, -0.1), bounds=((-10, -10), (0, 0)), max_eval=4000)),\n  'p_plus_zero_given_any': ModelSpecification(axes=('time', 'p_plus_zero_given_any'), model=FixedExponentialModel(initial_params=(-0.1, -0.1), bounds=((-10, -10), (0, 0)), max_eval=4000)),\n  'p_zero_plus_given_any': ModelSpecification(axes=('time', 'p_zero_plus_given_any'), model=ExponentialModel(initial_params=(0.1, -0.1, 0.01), bounds=((0, -10, 0), (10, 0, 10)), max_eval=4000)),\n  'p_zero_zero_given_any': ModelSpecification(axes=('time', 'p_zero_zero_given_any'), model=FixedExponentialModel(initial_params=(-0.1, -0.1), bounds=((-10, -10), (0, 0)), max_eval=4000))},\n 'coverage': {'activity': ModelSpecification(axes=('coverage', 'activity'), model=ExponentialModel(initial_params=(0.1, -0.1, 0.01), bounds=((0, -10, 0), (10, 0, 10)), max_eval=4000)),\n  'p_plus_plus': ModelSpecification(axes=('coverage', 'p_plus_plus'), model=ExponentialModel(initial_params=(0.1, -0.1, 0.01), bounds=((0, -10, 0), (10, 0, 10)), max_eval=4000)),\n  'p_plus_minus': ModelSpecification(axes=('coverage', 'p_plus_minus'), model=FixedExponentialModel(initial_params=(-0.1, -0.1), bounds=((-10, -10), (0, 0)), max_eval=4000)),\n  'p_plus_zero': ModelSpecification(axes=('coverage', 'p_plus_zero'), model=FixedExponentialModel(initial_params=(-0.1, -0.1), bounds=((-10, -10), (0, 0)), max_eval=4000)),\n  'p_zero_plus': ModelSpecification(axes=('coverage', 'p_zero_plus'), model=ExponentialModel(initial_params=(0.1, -0.1, 0.01), bounds=((0, -10, 0), (10, 0, 10)), max_eval=4000)),\n  'p_zero_zero': ModelSpecification(axes=('coverage', 'p_zero_zero'), model=FixedExponentialModel(initial_params=(-0.1, -0.1), bounds=((-10, -10), (0, 0)), max_eval=4000)),\n  'p_plus_plus_given_plus': ModelSpecification(axes=('coverage', 'p_plus_plus_given_plus'), model=ExponentialModel(initial_params=(0.1, -0.1, 0.01), bounds=((0, -10, 0), (10, 0, 10)), max_eval=4000)),\n  'p_plus_minus_given_plus': ModelSpecification(axes=('coverage', 'p_plus_minus_given_plus'), model=FixedExponentialModel(initial_params=(-0.1, -0.1), bounds=((-10, -10), (0, 0)), max_eval=4000)),\n  'p_plus_zero_given_plus': ModelSpecification(axes=('coverage', 'p_plus_zero_given_plus'), model=FixedExponentialModel(initial_params=(-0.1, -0.1), bounds=((-10, -10), (0, 0)), max_eval=4000)),\n  'p_zero_plus_given_zero': ModelSpecification(axes=('coverage', 'p_zero_plus_given_zero'), model=ExponentialModel(initial_params=(0.1, -0.1, 0.01), bounds=((0, -10, 0), (10, 0, 10)), max_eval=4000)),\n  'p_zero_zero_given_zero': ModelSpecification(axes=('coverage', 'p_zero_zero_given_zero'), model=FixedExponentialModel(initial_params=(-0.1, -0.1), bounds=((-10, -10), (0, 0)), max_eval=4000)),\n  'p_plus_plus_given_any': ModelSpecification(axes=('coverage', 'p_plus_plus_given_any'), model=ExponentialModel(initial_params=(0.1, -0.1, 0.01), bounds=((0, -10, 0), (10, 0, 10)), max_eval=4000)),\n  'p_plus_minus_given_any': ModelSpecification(axes=('coverage', 'p_plus_minus_given_any'), model=FixedExponentialModel(initial_params=(-0.1, -0.1), bounds=((-10, -10), (0, 0)), max_eval=4000)),\n  'p_plus_zero_given_any': ModelSpecification(axes=('coverage', 'p_plus_zero_given_any'), model=FixedExponentialModel(initial_params=(-0.1, -0.1), bounds=((-10, -10), (0, 0)), max_eval=4000)),\n  'p_zero_plus_given_any': ModelSpecification(axes=('coverage', 'p_zero_plus_given_any'), model=ExponentialModel(initial_params=(0.1, -0.1, 0.01), bounds=((0, -10, 0), (10, 0, 10)), max_eval=4000)),\n  'p_zero_zero_given_any': ModelSpecification(axes=('coverage', 'p_zero_zero_given_any'), model=FixedExponentialModel(initial_params=(-0.1, -0.1), bounds=((-10, -10), (0, 0)), max_eval=4000))},\n 'pica': {'activity': ModelSpecification(axes=('pica', 'activity'), model=ExponentialModel(initial_params=(0.1, -0.1, 0.01), bounds=((0, -10, 0), (10, 0, 10)), max_eval=4000)),\n  'p_plus_plus': ModelSpecification(axes=('pica', 'p_plus_plus'), model=ExponentialModel(initial_params=(0.1, -0.1, 0.01), bounds=((0, -10, 0), (10, 0, 10)), max_eval=4000)),\n  'p_plus_minus': ModelSpecification(axes=('pica', 'p_plus_minus'), model=FixedExponentialModel(initial_params=(-0.1, -0.1), bounds=((-10, -10), (0, 0)), max_eval=4000)),\n  'p_plus_zero': ModelSpecification(axes=('pica', 'p_plus_zero'), model=FixedExponentialModel(initial_params=(-0.1, -0.1), bounds=((-10, -10), (0, 0)), max_eval=4000)),\n  'p_zero_plus': ModelSpecification(axes=('pica', 'p_zero_plus'), model=ExponentialModel(initial_params=(0.1, -0.1, 0.01), bounds=((0, -10, 0), (10, 0, 10)), max_eval=4000)),\n  'p_zero_zero': ModelSpecification(axes=('pica', 'p_zero_zero'), model=FixedExponentialModel(initial_params=(-0.1, -0.1), bounds=((-10, -10), (0, 0)), max_eval=4000)),\n  'p_plus_plus_given_plus': ModelSpecification(axes=('pica', 'p_plus_plus_given_plus'), model=ExponentialModel(initial_params=(0.1, -0.1, 0.01), bounds=((0, -10, 0), (10, 0, 10)), max_eval=4000)),\n  'p_plus_minus_given_plus': ModelSpecification(axes=('pica', 'p_plus_minus_given_plus'), model=FixedExponentialModel(initial_params=(-0.1, -0.1), bounds=((-10, -10), (0, 0)), max_eval=4000)),\n  'p_plus_zero_given_plus': ModelSpecification(axes=('pica', 'p_plus_zero_given_plus'), model=FixedExponentialModel(initial_params=(-0.1, -0.1), bounds=((-10, -10), (0, 0)), max_eval=4000)),\n  'p_zero_plus_given_zero': ModelSpecification(axes=('pica', 'p_zero_plus_given_zero'), model=ExponentialModel(initial_params=(0.1, -0.1, 0.01), bounds=((0, -10, 0), (10, 0, 10)), max_eval=4000)),\n  'p_zero_zero_given_zero': ModelSpecification(axes=('pica', 'p_zero_zero_given_zero'), model=FixedExponentialModel(initial_params=(-0.1, -0.1), bounds=((-10, -10), (0, 0)), max_eval=4000)),\n  'p_plus_plus_given_any': ModelSpecification(axes=('pica', 'p_plus_plus_given_any'), model=ExponentialModel(initial_params=(0.1, -0.1, 0.01), bounds=((0, -10, 0), (10, 0, 10)), max_eval=4000)),\n  'p_plus_minus_given_any': ModelSpecification(axes=('pica', 'p_plus_minus_given_any'), model=FixedExponentialModel(initial_params=(-0.1, -0.1), bounds=((-10, -10), (0, 0)), max_eval=4000)),\n  'p_plus_zero_given_any': ModelSpecification(axes=('pica', 'p_plus_zero_given_any'), model=FixedExponentialModel(initial_params=(-0.1, -0.1), bounds=((-10, -10), (0, 0)), max_eval=4000)),\n  'p_zero_plus_given_any': ModelSpecification(axes=('pica', 'p_zero_plus_given_any'), model=ExponentialModel(initial_params=(0.1, -0.1, 0.01), bounds=((0, -10, 0), (10, 0, 10)), max_eval=4000)),\n  'p_zero_zero_given_any': ModelSpecification(axes=('pica', 'p_zero_zero_given_any'), model=FixedExponentialModel(initial_params=(-0.1, -0.1), bounds=((-10, -10), (0, 0)), max_eval=4000))},\n 'pgca': {'activity': ModelSpecification(axes=('pgca', 'activity'), model=ExponentialModel(initial_params=(0.1, -0.1, 0.01), bounds=((0, -10, 0), (10, 0, 10)), max_eval=4000)),\n  'p_plus_plus': ModelSpecification(axes=('pgca', 'p_plus_plus'), model=ExponentialModel(initial_params=(0.1, -0.1, 0.01), bounds=((0, -10, 0), (10, 0, 10)), max_eval=4000)),\n  'p_plus_minus': ModelSpecification(axes=('pgca', 'p_plus_minus'), model=FixedExponentialModel(initial_params=(-0.1, -0.1), bounds=((-10, -10), (0, 0)), max_eval=4000)),\n  'p_plus_zero': ModelSpecification(axes=('pgca', 'p_plus_zero'), model=FixedExponentialModel(initial_params=(-0.1, -0.1), bounds=((-10, -10), (0, 0)), max_eval=4000)),\n  'p_zero_plus': ModelSpecification(axes=('pgca', 'p_zero_plus'), model=ExponentialModel(initial_params=(0.1, -0.1, 0.01), bounds=((0, -10, 0), (10, 0, 10)), max_eval=4000)),\n  'p_zero_zero': ModelSpecification(axes=('pgca', 'p_zero_zero'), model=FixedExponentialModel(initial_params=(-0.1, -0.1), bounds=((-10, -10), (0, 0)), max_eval=4000)),\n  'p_plus_plus_given_plus': ModelSpecification(axes=('pgca', 'p_plus_plus_given_plus'), model=ExponentialModel(initial_params=(0.1, -0.1, 0.01), bounds=((0, -10, 0), (10, 0, 10)), max_eval=4000)),\n  'p_plus_minus_given_plus': ModelSpecification(axes=('pgca', 'p_plus_minus_given_plus'), model=FixedExponentialModel(initial_params=(-0.1, -0.1), bounds=((-10, -10), (0, 0)), max_eval=4000)),\n  'p_plus_zero_given_plus': ModelSpecification(axes=('pgca', 'p_plus_zero_given_plus'), model=FixedExponentialModel(initial_params=(-0.1, -0.1), bounds=((-10, -10), (0, 0)), max_eval=4000)),\n  'p_zero_plus_given_zero': ModelSpecification(axes=('pgca', 'p_zero_plus_given_zero'), model=ExponentialModel(initial_params=(0.1, -0.1, 0.01), bounds=((0, -10, 0), (10, 0, 10)), max_eval=4000)),\n  'p_zero_zero_given_zero': ModelSpecification(axes=('pgca', 'p_zero_zero_given_zero'), model=FixedExponentialModel(initial_params=(-0.1, -0.1), bounds=((-10, -10), (0, 0)), max_eval=4000)),\n  'p_plus_plus_given_any': ModelSpecification(axes=('pgca', 'p_plus_plus_given_any'), model=ExponentialModel(initial_params=(0.1, -0.1, 0.01), bounds=((0, -10, 0), (10, 0, 10)), max_eval=4000)),\n  'p_plus_minus_given_any': ModelSpecification(axes=('pgca', 'p_plus_minus_given_any'), model=FixedExponentialModel(initial_params=(-0.1, -0.1), bounds=((-10, -10), (0, 0)), max_eval=4000)),\n  'p_plus_zero_given_any': ModelSpecification(axes=('pgca', 'p_plus_zero_given_any'), model=FixedExponentialModel(initial_params=(-0.1, -0.1), bounds=((-10, -10), (0, 0)), max_eval=4000)),\n  'p_zero_plus_given_any': ModelSpecification(axes=('pgca', 'p_zero_plus_given_any'), model=ExponentialModel(initial_params=(0.1, -0.1, 0.01), bounds=((0, -10, 0), (10, 0, 10)), max_eval=4000)),\n  'p_zero_zero_given_any': ModelSpecification(axes=('pgca', 'p_zero_zero_given_any'), model=FixedExponentialModel(initial_params=(-0.1, -0.1), bounds=((-10, -10), (0, 0)), max_eval=4000))},\n 'percent_coverage': {'activity': ModelSpecification(axes=('percent_coverage', 'activity'), model=ExponentialModel(initial_params=(0.1, -0.1, 0.01), bounds=((0, -10, 0), (10, 0, 10)), max_eval=4000)),\n  'p_plus_plus': ModelSpecification(axes=('percent_coverage', 'p_plus_plus'), model=ExponentialModel(initial_params=(0.1, -0.1, 0.01), bounds=((0, -10, 0), (10, 0, 10)), max_eval=4000)),\n  'p_plus_minus': ModelSpecification(axes=('percent_coverage', 'p_plus_minus'), model=FixedExponentialModel(initial_params=(-0.1, -0.1), bounds=((-10, -10), (0, 0)), max_eval=4000)),\n  'p_plus_zero': ModelSpecification(axes=('percent_coverage', 'p_plus_zero'), model=FixedExponentialModel(initial_params=(-0.1, -0.1), bounds=((-10, -10), (0, 0)), max_eval=4000)),\n  'p_zero_plus': ModelSpecification(axes=('percent_coverage', 'p_zero_plus'), model=ExponentialModel(initial_params=(0.1, -0.1, 0.01), bounds=((0, -10, 0), (10, 0, 10)), max_eval=4000)),\n  'p_zero_zero': ModelSpecification(axes=('percent_coverage', 'p_zero_zero'), model=FixedExponentialModel(initial_params=(-0.1, -0.1), bounds=((-10, -10), (0, 0)), max_eval=4000)),\n  'p_plus_plus_given_plus': ModelSpecification(axes=('percent_coverage', 'p_plus_plus_given_plus'), model=ExponentialModel(initial_params=(0.1, -0.1, 0.01), bounds=((0, -10, 0), (10, 0, 10)), max_eval=4000)),\n  'p_plus_minus_given_plus': ModelSpecification(axes=('percent_coverage', 'p_plus_minus_given_plus'), model=FixedExponentialModel(initial_params=(-0.1, -0.1), bounds=((-10, -10), (0, 0)), max_eval=4000)),\n  'p_plus_zero_given_plus': ModelSpecification(axes=('percent_coverage', 'p_plus_zero_given_plus'), model=FixedExponentialModel(initial_params=(-0.1, -0.1), bounds=((-10, -10), (0, 0)), max_eval=4000)),\n  'p_zero_plus_given_zero': ModelSpecification(axes=('percent_coverage', 'p_zero_plus_given_zero'), model=ExponentialModel(initial_params=(0.1, -0.1, 0.01), bounds=((0, -10, 0), (10, 0, 10)), max_eval=4000)),\n  'p_zero_zero_given_zero': ModelSpecification(axes=('percent_coverage', 'p_zero_zero_given_zero'), model=FixedExponentialModel(initial_params=(-0.1, -0.1), bounds=((-10, -10), (0, 0)), max_eval=4000)),\n  'p_plus_plus_given_any': ModelSpecification(axes=('percent_coverage', 'p_plus_plus_given_any'), model=ExponentialModel(initial_params=(0.1, -0.1, 0.01), bounds=((0, -10, 0), (10, 0, 10)), max_eval=4000)),\n  'p_plus_minus_given_any': ModelSpecification(axes=('percent_coverage', 'p_plus_minus_given_any'), model=FixedExponentialModel(initial_params=(-0.1, -0.1), bounds=((-10, -10), (0, 0)), max_eval=4000)),\n  'p_plus_zero_given_any': ModelSpecification(axes=('percent_coverage', 'p_plus_zero_given_any'), model=FixedExponentialModel(initial_params=(-0.1, -0.1), bounds=((-10, -10), (0, 0)), max_eval=4000)),\n  'p_zero_plus_given_any': ModelSpecification(axes=('percent_coverage', 'p_zero_plus_given_any'), model=ExponentialModel(initial_params=(0.1, -0.1, 0.01), bounds=((0, -10, 0), (10, 0, 10)), max_eval=4000)),\n  'p_zero_zero_given_any': ModelSpecification(axes=('percent_coverage', 'p_zero_zero_given_any'), model=FixedExponentialModel(initial_params=(-0.1, -0.1), bounds=((-10, -10), (0, 0)), max_eval=4000))}}"
     },
     "execution_count": 21,
     "metadata": {},
     "output_type": "execute_result"
    }
   ],
   "source": [
    "model_params"
   ],
   "metadata": {
    "collapsed": false,
    "ExecuteTime": {
     "end_time": "2023-06-05T16:20:00.238796Z",
     "start_time": "2023-06-05T16:20:00.232358Z"
    }
   }
  },
  {
   "cell_type": "markdown",
   "source": [],
   "metadata": {
    "collapsed": false
   }
  },
  {
   "cell_type": "code",
   "execution_count": 67,
   "outputs": [],
   "source": [
    "def plot_individual(i: int, x: str, y: str, group: str, measures: dict[str, dict[str, pd.DataFrame]],\n",
    "                    params: dict[str, dict[str, dict[str, pd.DataFrame]]],\n",
    "                    model_info: dict[str, dict[str, pd.DataFrame]]):\n",
    "    y_plot = measures[group][y].iloc[i].values[1:]\n",
    "    if x == 'time':\n",
    "        x_plot = np.arange(0, len(y_plot))\n",
    "    else:\n",
    "        x_plot = measures[group][x].iloc[i].values[1:]\n",
    "    plt.scatter(x_plot, y_plot)\n",
    "    return"
   ],
   "metadata": {
    "collapsed": false,
    "ExecuteTime": {
     "end_time": "2023-06-05T16:38:35.103251Z",
     "start_time": "2023-06-05T16:38:35.100398Z"
    }
   }
  },
  {
   "cell_type": "code",
   "execution_count": 68,
   "outputs": [
    {
     "data": {
      "text/plain": "<Figure size 640x480 with 1 Axes>",
      "image/png": "[encoded data removed]"
     },
     "metadata": {},
     "output_type": "display_data"
    }
   ],
   "source": [
    "plot_individual(0, 'coverage', 'activity', 'Canton S', individual_measures_dfs, 1, 1)"
   ],
   "metadata": {
    "collapsed": false,
    "ExecuteTime": {
     "end_time": "2023-06-05T16:38:37.311423Z",
     "start_time": "2023-06-05T16:38:37.221746Z"
    }
   }
  },
  {
   "cell_type": "code",
   "execution_count": 77,
   "outputs": [
    {
     "data": {
      "text/plain": "numpy.ndarray"
     },
     "execution_count": 77,
     "metadata": {},
     "output_type": "execute_result"
    }
   ],
   "source": [
    "type(individual_measures_dfs['Canton S']['activity'].iloc[0][1:].values)"
   ],
   "metadata": {
    "collapsed": false,
    "ExecuteTime": {
     "end_time": "2023-06-05T17:32:27.849442Z",
     "start_time": "2023-06-05T17:32:27.843598Z"
    }
   }
  },
  {
   "cell_type": "code",
   "execution_count": 78,
   "outputs": [
    {
     "data": {
      "text/plain": "numpy.ndarray"
     },
     "execution_count": 78,
     "metadata": {},
     "output_type": "execute_result"
    }
   ],
   "source": [
    "type(np.arange(len(individual_measures_dfs['Canton S']['activity'].iloc[0][1:].values)))"
   ],
   "metadata": {
    "collapsed": false,
    "ExecuteTime": {
     "end_time": "2023-06-05T17:32:35.285781Z",
     "start_time": "2023-06-05T17:32:35.282329Z"
    }
   }
  },
  {
   "cell_type": "code",
   "execution_count": 10,
   "outputs": [
    {
     "data": {
      "text/plain": "      Group Which         0         1         2         3         4         5   \n0  Canton S  Mean  0.801998  0.816630  1.323404  0.939425  1.234074  1.087018  \\\n0  Canton S   SEM  0.271070  0.312425  0.283395  0.480077  0.452389  0.461550   \n\n          6         7  ...       590       591       592       593       594   \n0  1.110400  1.162825  ...  0.001849  0.006153  0.004274  0.004224  0.009255  \\\n0  0.481253  0.374926  ...  0.001713  0.002857  0.002921  0.003062  0.003462   \n\n        595       596       597       598  599  \n0  0.006149  0.003055  0.002654  0.004074  0.0  \n0  0.002351  0.001769  0.001559  0.002417  0.0  \n\n[2 rows x 602 columns]",
      "text/html": "<div>\n<style scoped>\n    .dataframe tbody tr th:only-of-type {\n        vertical-align: middle;\n    }\n\n    .dataframe tbody tr th {\n        vertical-align: top;\n    }\n\n    .dataframe thead th {\n        text-align: right;\n    }\n</style>\n<table border=\"1\" class=\"dataframe\">\n  <thead>\n    <tr style=\"text-align: right;\">\n      <th></th>\n      <th>Group</th>\n      <th>Which</th>\n      <th>0</th>\n      <th>1</th>\n      <th>2</th>\n      <th>3</th>\n      <th>4</th>\n      <th>5</th>\n      <th>6</th>\n      <th>7</th>\n      <th>...</th>\n      <th>590</th>\n      <th>591</th>\n      <th>592</th>\n      <th>593</th>\n      <th>594</th>\n      <th>595</th>\n      <th>596</th>\n      <th>597</th>\n      <th>598</th>\n      <th>599</th>\n    </tr>\n  </thead>\n  <tbody>\n    <tr>\n      <th>0</th>\n      <td>Canton S</td>\n      <td>Mean</td>\n      <td>0.801998</td>\n      <td>0.816630</td>\n      <td>1.323404</td>\n      <td>0.939425</td>\n      <td>1.234074</td>\n      <td>1.087018</td>\n      <td>1.110400</td>\n      <td>1.162825</td>\n      <td>...</td>\n      <td>0.001849</td>\n      <td>0.006153</td>\n      <td>0.004274</td>\n      <td>0.004224</td>\n      <td>0.009255</td>\n      <td>0.006149</td>\n      <td>0.003055</td>\n      <td>0.002654</td>\n      <td>0.004074</td>\n      <td>0.0</td>\n    </tr>\n    <tr>\n      <th>0</th>\n      <td>Canton S</td>\n      <td>SEM</td>\n      <td>0.271070</td>\n      <td>0.312425</td>\n      <td>0.283395</td>\n      <td>0.480077</td>\n      <td>0.452389</td>\n      <td>0.461550</td>\n      <td>0.481253</td>\n      <td>0.374926</td>\n      <td>...</td>\n      <td>0.001713</td>\n      <td>0.002857</td>\n      <td>0.002921</td>\n      <td>0.003062</td>\n      <td>0.003462</td>\n      <td>0.002351</td>\n      <td>0.001769</td>\n      <td>0.001559</td>\n      <td>0.002417</td>\n      <td>0.0</td>\n    </tr>\n  </tbody>\n</table>\n<p>2 rows × 602 columns</p>\n</div>"
     },
     "execution_count": 10,
     "metadata": {},
     "output_type": "execute_result"
    }
   ],
   "source": [
    "time_averages['Canton S']['activity']"
   ],
   "metadata": {
    "collapsed": false,
    "ExecuteTime": {
     "end_time": "2023-06-07T16:21:26.074895Z",
     "start_time": "2023-06-07T16:21:26.064622Z"
    }
   }
  },
  {
   "cell_type": "code",
   "execution_count": 8,
   "outputs": [
    {
     "data": {
      "text/plain": "      Group Which         0         1         2         3         4         5   \n0  Canton S  Mean  0.801998  0.816630  1.323404  0.939425  1.234074  1.087018  \\\n1  Canton S   SEM  0.271070  0.312425  0.283395  0.480077  0.452389  0.461550   \n\n          6         7  ...       590       591       592       593       594   \n0  1.110400  1.162825  ...  0.001849  0.006153  0.004274  0.004224  0.009255  \\\n1  0.481253  0.374926  ...  0.001713  0.002857  0.002921  0.003062  0.003462   \n\n        595       596       597       598  599  \n0  0.006149  0.003055  0.002654  0.004074  0.0  \n1  0.002351  0.001769  0.001559  0.002417  0.0  \n\n[2 rows x 602 columns]",
      "text/html": "<div>\n<style scoped>\n    .dataframe tbody tr th:only-of-type {\n        vertical-align: middle;\n    }\n\n    .dataframe tbody tr th {\n        vertical-align: top;\n    }\n\n    .dataframe thead th {\n        text-align: right;\n    }\n</style>\n<table border=\"1\" class=\"dataframe\">\n  <thead>\n    <tr style=\"text-align: right;\">\n      <th></th>\n      <th>Group</th>\n      <th>Which</th>\n      <th>0</th>\n      <th>1</th>\n      <th>2</th>\n      <th>3</th>\n      <th>4</th>\n      <th>5</th>\n      <th>6</th>\n      <th>7</th>\n      <th>...</th>\n      <th>590</th>\n      <th>591</th>\n      <th>592</th>\n      <th>593</th>\n      <th>594</th>\n      <th>595</th>\n      <th>596</th>\n      <th>597</th>\n      <th>598</th>\n      <th>599</th>\n    </tr>\n  </thead>\n  <tbody>\n    <tr>\n      <th>0</th>\n      <td>Canton S</td>\n      <td>Mean</td>\n      <td>0.801998</td>\n      <td>0.816630</td>\n      <td>1.323404</td>\n      <td>0.939425</td>\n      <td>1.234074</td>\n      <td>1.087018</td>\n      <td>1.110400</td>\n      <td>1.162825</td>\n      <td>...</td>\n      <td>0.001849</td>\n      <td>0.006153</td>\n      <td>0.004274</td>\n      <td>0.004224</td>\n      <td>0.009255</td>\n      <td>0.006149</td>\n      <td>0.003055</td>\n      <td>0.002654</td>\n      <td>0.004074</td>\n      <td>0.0</td>\n    </tr>\n    <tr>\n      <th>1</th>\n      <td>Canton S</td>\n      <td>SEM</td>\n      <td>0.271070</td>\n      <td>0.312425</td>\n      <td>0.283395</td>\n      <td>0.480077</td>\n      <td>0.452389</td>\n      <td>0.461550</td>\n      <td>0.481253</td>\n      <td>0.374926</td>\n      <td>...</td>\n      <td>0.001713</td>\n      <td>0.002857</td>\n      <td>0.002921</td>\n      <td>0.003062</td>\n      <td>0.003462</td>\n      <td>0.002351</td>\n      <td>0.001769</td>\n      <td>0.001559</td>\n      <td>0.002417</td>\n      <td>0.0</td>\n    </tr>\n  </tbody>\n</table>\n<p>2 rows × 602 columns</p>\n</div>"
     },
     "execution_count": 8,
     "metadata": {},
     "output_type": "execute_result"
    }
   ],
   "source": [
    "time_averages['Canton S']['activity'].reset_index().drop(columns='index')"
   ],
   "metadata": {
    "collapsed": false,
    "ExecuteTime": {
     "end_time": "2023-06-07T16:21:00.502543Z",
     "start_time": "2023-06-07T16:21:00.499010Z"
    }
   }
  },
  {
   "cell_type": "code",
   "execution_count": 11,
   "outputs": [
    {
     "data": {
      "text/plain": "0      0.801998\n1       0.81663\n2      1.323404\n3      0.939425\n4      1.234074\n         ...   \n595    0.006149\n596    0.003055\n597    0.002654\n598    0.004074\n599         0.0\nName: 0, Length: 600, dtype: object"
     },
     "execution_count": 11,
     "metadata": {},
     "output_type": "execute_result"
    }
   ],
   "source": [
    "time_averages['Canton S']['activity'].reset_index().drop(columns='index').iloc[0][2:]"
   ],
   "metadata": {
    "collapsed": false,
    "ExecuteTime": {
     "end_time": "2023-06-07T16:22:01.268451Z",
     "start_time": "2023-06-07T16:22:01.264774Z"
    }
   }
  },
  {
   "cell_type": "code",
   "execution_count": null,
   "outputs": [],
   "source": [],
   "metadata": {
    "collapsed": false
   }
  },
  {
   "cell_type": "code",
   "execution_count": 18,
   "outputs": [
    {
     "data": {
      "text/plain": "(3, 1)"
     },
     "execution_count": 18,
     "metadata": {},
     "output_type": "execute_result"
    }
   ],
   "source": [
    "group_fits['Canton S']['time']['activity'].values.shape"
   ],
   "metadata": {
    "collapsed": false,
    "ExecuteTime": {
     "end_time": "2023-06-07T16:57:53.695138Z",
     "start_time": "2023-06-07T16:57:53.689873Z"
    }
   }
  },
  {
   "cell_type": "markdown",
   "source": [],
   "metadata": {
    "collapsed": false
   }
  },
  {
   "cell_type": "code",
   "execution_count": 25,
   "outputs": [
    {
     "data": {
      "text/plain": "[1.2718765822885858, -0.031456246159760656, 0.03189790295546492]"
     },
     "execution_count": 25,
     "metadata": {},
     "output_type": "execute_result"
    }
   ],
   "source": [
    "group_fits['Canton S']['time']['activity'].values.flatten().tolist()"
   ],
   "metadata": {
    "collapsed": false,
    "ExecuteTime": {
     "end_time": "2023-06-07T17:03:03.988175Z",
     "start_time": "2023-06-07T17:03:03.983424Z"
    }
   }
  },
  {
   "cell_type": "code",
   "execution_count": 28,
   "outputs": [
    {
     "data": {
      "text/plain": "     activity mean  activity sem  p_plus_plus mean  p_plus_plus sem   \n0         0.465194      0.083632          0.000000         0.000000  \\\n1         0.733468      0.179648          0.333333         0.136083   \n2         0.302766      0.142192          0.750000         0.216506   \n3              NaN           NaN               NaN              NaN   \n4              NaN           NaN               NaN              NaN   \n..             ...           ...               ...              ...   \n240       0.223761      0.049188          0.416667         0.082168   \n241       0.003655      0.000793          0.000000         0.000000   \n242       0.004184      0.001542          0.000000         0.000000   \n243       0.001515      0.001101          0.000000         0.000000   \n244       0.000000      0.000000          0.000000         0.000000   \n\n     p_plus_minus mean  p_plus_minus sem  p_plus_zero mean  p_plus_zero sem   \n0             0.000000          0.000000          0.000000         0.000000  \\\n1             0.000000          0.000000          0.000000         0.000000   \n2             0.250000          0.216506          0.000000         0.000000   \n3                  NaN               NaN               NaN              NaN   \n4                  NaN               NaN               NaN              NaN   \n..                 ...               ...               ...              ...   \n240           0.083333          0.046064          0.027778         0.027389   \n241           0.000000          0.000000          0.000000         0.000000   \n242           0.000000          0.000000          0.000000         0.000000   \n243           0.000000          0.000000          0.000000         0.000000   \n244           0.000000          0.000000          0.000000         0.000000   \n\n     p_zero_plus mean  p_zero_plus sem  ...  p_plus_minus_given_any mean   \n0            0.000000         0.000000  ...                          NaN  \\\n1            0.000000         0.000000  ...                     0.000000   \n2            0.000000         0.000000  ...                     0.250000   \n3                 NaN              NaN  ...                          NaN   \n4                 NaN              NaN  ...                          NaN   \n..                ...              ...  ...                          ...   \n240          0.055556         0.038177  ...                     0.130435   \n241          0.000000         0.000000  ...                          NaN   \n242          0.000000         0.000000  ...                          NaN   \n243          0.000000         0.000000  ...                          NaN   \n244          0.000000         0.000000  ...                          NaN   \n\n     p_plus_minus_given_any sem  p_plus_zero_given_any mean   \n0                           NaN                         NaN  \\\n1                      0.000000                    0.000000   \n2                      0.216506                    0.000000   \n3                           NaN                         NaN   \n4                           NaN                         NaN   \n..                          ...                         ...   \n240                    0.070224                    0.043478   \n241                         NaN                         NaN   \n242                         NaN                         NaN   \n243                         NaN                         NaN   \n244                         NaN                         NaN   \n\n     p_plus_zero_given_any sem  p_zero_plus_given_any mean   \n0                          NaN                         NaN  \\\n1                     0.000000                    0.000000   \n2                     0.000000                    0.000000   \n3                          NaN                         NaN   \n4                          NaN                         NaN   \n..                         ...                         ...   \n240                   0.042523                    0.086957   \n241                        NaN                         NaN   \n242                        NaN                         NaN   \n243                        NaN                         NaN   \n244                        NaN                         NaN   \n\n     p_zero_plus_given_any sem  p_zero_zero_given_any mean   \n0                          NaN                         NaN  \\\n1                     0.000000                    0.000000   \n2                     0.000000                    0.000000   \n3                          NaN                         NaN   \n4                          NaN                         NaN   \n..                         ...                         ...   \n240                   0.058753                    0.086957   \n241                        NaN                         NaN   \n242                        NaN                         NaN   \n243                        NaN                         NaN   \n244                        NaN                         NaN   \n\n     p_zero_zero_given_any sem  coverage mean  coverage sem  \n0                          NaN       0.000163  2.300698e-05  \n1                     0.000000       0.002787  3.927206e-04  \n2                     0.000000       0.012147  4.673604e-04  \n3                          NaN       0.022087  4.810705e-04  \n4                          NaN       0.032088  4.809925e-04  \n..                         ...            ...           ...  \n240                   0.058753       1.829440  3.700743e-17  \n241                        NaN       1.829440  3.700743e-17  \n242                        NaN       1.829440  3.700743e-17  \n243                        NaN       1.829440  3.700743e-17  \n244                        NaN       1.829440  8.107923e-17  \n\n[245 rows x 34 columns]",
      "text/html": "<div>\n<style scoped>\n    .dataframe tbody tr th:only-of-type {\n        vertical-align: middle;\n    }\n\n    .dataframe tbody tr th {\n        vertical-align: top;\n    }\n\n    .dataframe thead th {\n        text-align: right;\n    }\n</style>\n<table border=\"1\" class=\"dataframe\">\n  <thead>\n    <tr style=\"text-align: right;\">\n      <th></th>\n      <th>activity mean</th>\n      <th>activity sem</th>\n      <th>p_plus_plus mean</th>\n      <th>p_plus_plus sem</th>\n      <th>p_plus_minus mean</th>\n      <th>p_plus_minus sem</th>\n      <th>p_plus_zero mean</th>\n      <th>p_plus_zero sem</th>\n      <th>p_zero_plus mean</th>\n      <th>p_zero_plus sem</th>\n      <th>...</th>\n      <th>p_plus_minus_given_any mean</th>\n      <th>p_plus_minus_given_any sem</th>\n      <th>p_plus_zero_given_any mean</th>\n      <th>p_plus_zero_given_any sem</th>\n      <th>p_zero_plus_given_any mean</th>\n      <th>p_zero_plus_given_any sem</th>\n      <th>p_zero_zero_given_any mean</th>\n      <th>p_zero_zero_given_any sem</th>\n      <th>coverage mean</th>\n      <th>coverage sem</th>\n    </tr>\n  </thead>\n  <tbody>\n    <tr>\n      <th>0</th>\n      <td>0.465194</td>\n      <td>0.083632</td>\n      <td>0.000000</td>\n      <td>0.000000</td>\n      <td>0.000000</td>\n      <td>0.000000</td>\n      <td>0.000000</td>\n      <td>0.000000</td>\n      <td>0.000000</td>\n      <td>0.000000</td>\n      <td>...</td>\n      <td>NaN</td>\n      <td>NaN</td>\n      <td>NaN</td>\n      <td>NaN</td>\n      <td>NaN</td>\n      <td>NaN</td>\n      <td>NaN</td>\n      <td>NaN</td>\n      <td>0.000163</td>\n      <td>2.300698e-05</td>\n    </tr>\n    <tr>\n      <th>1</th>\n      <td>0.733468</td>\n      <td>0.179648</td>\n      <td>0.333333</td>\n      <td>0.136083</td>\n      <td>0.000000</td>\n      <td>0.000000</td>\n      <td>0.000000</td>\n      <td>0.000000</td>\n      <td>0.000000</td>\n      <td>0.000000</td>\n      <td>...</td>\n      <td>0.000000</td>\n      <td>0.000000</td>\n      <td>0.000000</td>\n      <td>0.000000</td>\n      <td>0.000000</td>\n      <td>0.000000</td>\n      <td>0.000000</td>\n      <td>0.000000</td>\n      <td>0.002787</td>\n      <td>3.927206e-04</td>\n    </tr>\n    <tr>\n      <th>2</th>\n      <td>0.302766</td>\n      <td>0.142192</td>\n      <td>0.750000</td>\n      <td>0.216506</td>\n      <td>0.250000</td>\n      <td>0.216506</td>\n      <td>0.000000</td>\n      <td>0.000000</td>\n      <td>0.000000</td>\n      <td>0.000000</td>\n      <td>...</td>\n      <td>0.250000</td>\n      <td>0.216506</td>\n      <td>0.000000</td>\n      <td>0.000000</td>\n      <td>0.000000</td>\n      <td>0.000000</td>\n      <td>0.000000</td>\n      <td>0.000000</td>\n      <td>0.012147</td>\n      <td>4.673604e-04</td>\n    </tr>\n    <tr>\n      <th>3</th>\n      <td>NaN</td>\n      <td>NaN</td>\n      <td>NaN</td>\n      <td>NaN</td>\n      <td>NaN</td>\n      <td>NaN</td>\n      <td>NaN</td>\n      <td>NaN</td>\n      <td>NaN</td>\n      <td>NaN</td>\n      <td>...</td>\n      <td>NaN</td>\n      <td>NaN</td>\n      <td>NaN</td>\n      <td>NaN</td>\n      <td>NaN</td>\n      <td>NaN</td>\n      <td>NaN</td>\n      <td>NaN</td>\n      <td>0.022087</td>\n      <td>4.810705e-04</td>\n    </tr>\n    <tr>\n      <th>4</th>\n      <td>NaN</td>\n      <td>NaN</td>\n      <td>NaN</td>\n      <td>NaN</td>\n      <td>NaN</td>\n      <td>NaN</td>\n      <td>NaN</td>\n      <td>NaN</td>\n      <td>NaN</td>\n      <td>NaN</td>\n      <td>...</td>\n      <td>NaN</td>\n      <td>NaN</td>\n      <td>NaN</td>\n      <td>NaN</td>\n      <td>NaN</td>\n      <td>NaN</td>\n      <td>NaN</td>\n      <td>NaN</td>\n      <td>0.032088</td>\n      <td>4.809925e-04</td>\n    </tr>\n    <tr>\n      <th>...</th>\n      <td>...</td>\n      <td>...</td>\n      <td>...</td>\n      <td>...</td>\n      <td>...</td>\n      <td>...</td>\n      <td>...</td>\n      <td>...</td>\n      <td>...</td>\n      <td>...</td>\n      <td>...</td>\n      <td>...</td>\n      <td>...</td>\n      <td>...</td>\n      <td>...</td>\n      <td>...</td>\n      <td>...</td>\n      <td>...</td>\n      <td>...</td>\n      <td>...</td>\n      <td>...</td>\n    </tr>\n    <tr>\n      <th>240</th>\n      <td>0.223761</td>\n      <td>0.049188</td>\n      <td>0.416667</td>\n      <td>0.082168</td>\n      <td>0.083333</td>\n      <td>0.046064</td>\n      <td>0.027778</td>\n      <td>0.027389</td>\n      <td>0.055556</td>\n      <td>0.038177</td>\n      <td>...</td>\n      <td>0.130435</td>\n      <td>0.070224</td>\n      <td>0.043478</td>\n      <td>0.042523</td>\n      <td>0.086957</td>\n      <td>0.058753</td>\n      <td>0.086957</td>\n      <td>0.058753</td>\n      <td>1.829440</td>\n      <td>3.700743e-17</td>\n    </tr>\n    <tr>\n      <th>241</th>\n      <td>0.003655</td>\n      <td>0.000793</td>\n      <td>0.000000</td>\n      <td>0.000000</td>\n      <td>0.000000</td>\n      <td>0.000000</td>\n      <td>0.000000</td>\n      <td>0.000000</td>\n      <td>0.000000</td>\n      <td>0.000000</td>\n      <td>...</td>\n      <td>NaN</td>\n      <td>NaN</td>\n      <td>NaN</td>\n      <td>NaN</td>\n      <td>NaN</td>\n      <td>NaN</td>\n      <td>NaN</td>\n      <td>NaN</td>\n      <td>1.829440</td>\n      <td>3.700743e-17</td>\n    </tr>\n    <tr>\n      <th>242</th>\n      <td>0.004184</td>\n      <td>0.001542</td>\n      <td>0.000000</td>\n      <td>0.000000</td>\n      <td>0.000000</td>\n      <td>0.000000</td>\n      <td>0.000000</td>\n      <td>0.000000</td>\n      <td>0.000000</td>\n      <td>0.000000</td>\n      <td>...</td>\n      <td>NaN</td>\n      <td>NaN</td>\n      <td>NaN</td>\n      <td>NaN</td>\n      <td>NaN</td>\n      <td>NaN</td>\n      <td>NaN</td>\n      <td>NaN</td>\n      <td>1.829440</td>\n      <td>3.700743e-17</td>\n    </tr>\n    <tr>\n      <th>243</th>\n      <td>0.001515</td>\n      <td>0.001101</td>\n      <td>0.000000</td>\n      <td>0.000000</td>\n      <td>0.000000</td>\n      <td>0.000000</td>\n      <td>0.000000</td>\n      <td>0.000000</td>\n      <td>0.000000</td>\n      <td>0.000000</td>\n      <td>...</td>\n      <td>NaN</td>\n      <td>NaN</td>\n      <td>NaN</td>\n      <td>NaN</td>\n      <td>NaN</td>\n      <td>NaN</td>\n      <td>NaN</td>\n      <td>NaN</td>\n      <td>1.829440</td>\n      <td>3.700743e-17</td>\n    </tr>\n    <tr>\n      <th>244</th>\n      <td>0.000000</td>\n      <td>0.000000</td>\n      <td>0.000000</td>\n      <td>0.000000</td>\n      <td>0.000000</td>\n      <td>0.000000</td>\n      <td>0.000000</td>\n      <td>0.000000</td>\n      <td>0.000000</td>\n      <td>0.000000</td>\n      <td>...</td>\n      <td>NaN</td>\n      <td>NaN</td>\n      <td>NaN</td>\n      <td>NaN</td>\n      <td>NaN</td>\n      <td>NaN</td>\n      <td>NaN</td>\n      <td>NaN</td>\n      <td>1.829440</td>\n      <td>8.107923e-17</td>\n    </tr>\n  </tbody>\n</table>\n<p>245 rows × 34 columns</p>\n</div>"
     },
     "execution_count": 28,
     "metadata": {},
     "output_type": "execute_result"
    }
   ],
   "source": [
    "group_measures_by_coverage['Canton S']"
   ],
   "metadata": {
    "collapsed": false,
    "ExecuteTime": {
     "end_time": "2023-06-07T18:10:49.186308Z",
     "start_time": "2023-06-07T18:10:49.174155Z"
    }
   }
  },
  {
   "cell_type": "code",
   "execution_count": 32,
   "outputs": [
    {
     "data": {
      "text/plain": "0      0.083632\n1      0.179648\n2      0.142192\n3           NaN\n4           NaN\n         ...   \n240    0.049188\n241    0.000793\n242    0.001542\n243    0.001101\n244    0.000000\nName: activity sem, Length: 245, dtype: float64"
     },
     "execution_count": 32,
     "metadata": {},
     "output_type": "execute_result"
    }
   ],
   "source": [
    "group_measures_by_coverage['Canton S']['activity sem']"
   ],
   "metadata": {
    "collapsed": false,
    "ExecuteTime": {
     "end_time": "2023-06-07T18:23:19.299894Z",
     "start_time": "2023-06-07T18:23:19.297209Z"
    }
   }
  },
  {
   "cell_type": "code",
   "execution_count": null,
   "outputs": [],
   "source": [],
   "metadata": {
    "collapsed": false
   }
  }
 ],
 "metadata": {
  "kernelspec": {
   "display_name": "Python 3",
   "language": "python",
   "name": "python3"
  },
  "language_info": {
   "codemirror_mode": {
    "name": "ipython",
    "version": 2
   },
   "file_extension": ".py",
   "mimetype": "text/x-python",
   "name": "python",
   "nbconvert_exporter": "python",
   "pygments_lexer": "ipython2",
   "version": "2.7.6"
  }
 },
 "nbformat": 4,
 "nbformat_minor": 0
}
