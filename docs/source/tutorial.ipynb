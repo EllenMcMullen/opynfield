{
 "cells": [
  {
   "cell_type": "code",
   "execution_count": 1,
   "id": "ea1b7a20",
   "metadata": {},
   "outputs": [
    {
     "name": "stdout",
     "output_type": "stream",
     "text": [
      "hello tim\n"
     ]
    }
   ],
   "source": [
    "print('hello tim')"
   ]
  },
  {
   "cell_type": "markdown",
   "id": "485ca98c",
   "metadata": {},
   "source": [
    "## Section 1\n",
    "In the docs you can find the [default settings](opynfield.config.rst)"
   ]
  },
  {
   "cell_type": "code",
   "execution_count": null,
   "id": "f38ee70d",
   "metadata": {},
   "outputs": [],
   "source": [
    "# can use # to give section name too"
   ]
  }
 ],
 "metadata": {
  "kernelspec": {
   "display_name": "Python 3 (ipykernel)",
   "language": "python",
   "name": "python3"
  },
  "language_info": {
   "codemirror_mode": {
    "name": "ipython",
    "version": 3
   },
   "file_extension": ".py",
   "mimetype": "text/x-python",
   "name": "python",
   "nbconvert_exporter": "python",
   "pygments_lexer": "ipython3",
   "version": "3.9.12"
  }
 },
 "nbformat": 4,
 "nbformat_minor": 5
}
